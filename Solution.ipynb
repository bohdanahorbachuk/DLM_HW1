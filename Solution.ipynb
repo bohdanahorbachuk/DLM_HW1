{
 "cells": [
  {
   "cell_type": "code",
   "execution_count": 61,
   "id": "53de6728-4dda-4752-9d61-2d0c03b8496d",
   "metadata": {},
   "outputs": [],
   "source": [
    "import pandas as pd\n",
    "from sklearn.datasets import fetch_20newsgroups\n",
    "from sklearn.model_selection import train_test_split\n",
    "from sklearn.feature_extraction.text import TfidfVectorizer\n",
    "from pycaret.classification import *\n",
    "import mlflow\n"
   ]
  },
  {
   "cell_type": "code",
   "execution_count": 62,
   "id": "84d22ebc",
   "metadata": {},
   "outputs": [],
   "source": [
    "newsgroups = fetch_20newsgroups(subset='all', remove=('headers', 'footers', 'quotes'))\n"
   ]
  },
  {
   "cell_type": "code",
   "execution_count": 63,
   "id": "5a47f584",
   "metadata": {},
   "outputs": [],
   "source": [
    "df = pd.DataFrame({'text': newsgroups.data, 'target': newsgroups.target})\n"
   ]
  },
  {
   "cell_type": "code",
   "execution_count": 64,
   "id": "d091b07e",
   "metadata": {},
   "outputs": [],
   "source": [
    "X_train, X_test, y_train, y_test = train_test_split(\n",
    "    df['text'], df['target'], test_size=0.2, random_state=42, stratify=df['target']\n",
    ")\n"
   ]
  },
  {
   "cell_type": "code",
   "execution_count": 65,
   "id": "2ec72d3d",
   "metadata": {},
   "outputs": [],
   "source": [
    "vectorizer = TfidfVectorizer(max_features=5000, stop_words='english')\n",
    "X_train_tfidf = vectorizer.fit_transform(X_train)\n",
    "X_test_tfidf = vectorizer.transform(X_test)\n"
   ]
  },
  {
   "cell_type": "code",
   "execution_count": 67,
   "id": "ac764397",
   "metadata": {},
   "outputs": [],
   "source": [
    "train_data = pd.DataFrame(X_train_tfidf.toarray())\n",
    "train_data['target'] = y_train.values\n"
   ]
  },
  {
   "cell_type": "code",
   "execution_count": 72,
   "id": "f654fb21",
   "metadata": {},
   "outputs": [],
   "source": [
    "exp = setup(\n",
    "    data=train_data,\n",
    "    target='target',\n",
    "    session_id=42,\n",
    "    log_experiment=False,   \n",
    "    verbose=False\n",
    ")\n"
   ]
  },
  {
   "cell_type": "code",
   "execution_count": 73,
   "id": "44afa5b4",
   "metadata": {},
   "outputs": [
    {
     "data": {
      "text/html": [],
      "text/plain": [
       "<IPython.core.display.HTML object>"
      ]
     },
     "metadata": {},
     "output_type": "display_data"
    },
    {
     "data": {
      "text/html": [
       "<style type=\"text/css\">\n",
       "#T_6b299 th {\n",
       "  text-align: left;\n",
       "}\n",
       "#T_6b299_row0_col0, #T_6b299_row0_col2, #T_6b299_row0_col4, #T_6b299_row1_col0, #T_6b299_row1_col1, #T_6b299_row1_col2, #T_6b299_row1_col3, #T_6b299_row1_col4, #T_6b299_row1_col5, #T_6b299_row1_col6, #T_6b299_row1_col7, #T_6b299_row2_col0, #T_6b299_row2_col1, #T_6b299_row2_col2, #T_6b299_row2_col3, #T_6b299_row2_col4, #T_6b299_row2_col5, #T_6b299_row2_col6, #T_6b299_row2_col7, #T_6b299_row3_col0, #T_6b299_row3_col1, #T_6b299_row3_col2, #T_6b299_row3_col3, #T_6b299_row3_col4, #T_6b299_row3_col5, #T_6b299_row3_col6, #T_6b299_row3_col7, #T_6b299_row4_col0, #T_6b299_row4_col1, #T_6b299_row4_col3, #T_6b299_row4_col4, #T_6b299_row4_col5, #T_6b299_row4_col6, #T_6b299_row4_col7, #T_6b299_row5_col0, #T_6b299_row5_col1, #T_6b299_row5_col2, #T_6b299_row5_col3, #T_6b299_row5_col4, #T_6b299_row5_col5, #T_6b299_row5_col6, #T_6b299_row5_col7, #T_6b299_row6_col0, #T_6b299_row6_col1, #T_6b299_row6_col2, #T_6b299_row6_col3, #T_6b299_row6_col4, #T_6b299_row6_col5, #T_6b299_row6_col6, #T_6b299_row6_col7, #T_6b299_row7_col0, #T_6b299_row7_col1, #T_6b299_row7_col2, #T_6b299_row7_col3, #T_6b299_row7_col4, #T_6b299_row7_col5, #T_6b299_row7_col6, #T_6b299_row7_col7, #T_6b299_row8_col0, #T_6b299_row8_col1, #T_6b299_row8_col2, #T_6b299_row8_col3, #T_6b299_row8_col4, #T_6b299_row8_col5, #T_6b299_row8_col6, #T_6b299_row8_col7, #T_6b299_row9_col0, #T_6b299_row9_col1, #T_6b299_row9_col2, #T_6b299_row9_col3, #T_6b299_row9_col4, #T_6b299_row9_col5, #T_6b299_row9_col6, #T_6b299_row9_col7, #T_6b299_row10_col0, #T_6b299_row10_col1, #T_6b299_row10_col2, #T_6b299_row10_col3, #T_6b299_row10_col4, #T_6b299_row10_col5, #T_6b299_row10_col6, #T_6b299_row10_col7, #T_6b299_row11_col0, #T_6b299_row11_col1, #T_6b299_row11_col2, #T_6b299_row11_col3, #T_6b299_row11_col5, #T_6b299_row11_col6, #T_6b299_row11_col7, #T_6b299_row12_col0, #T_6b299_row12_col1, #T_6b299_row12_col2, #T_6b299_row12_col3, #T_6b299_row12_col4, #T_6b299_row12_col5, #T_6b299_row12_col6, #T_6b299_row12_col7, #T_6b299_row13_col0, #T_6b299_row13_col1, #T_6b299_row13_col2, #T_6b299_row13_col3, #T_6b299_row13_col4, #T_6b299_row13_col5, #T_6b299_row13_col6, #T_6b299_row13_col7 {\n",
       "  text-align: left;\n",
       "}\n",
       "#T_6b299_row0_col1, #T_6b299_row0_col3, #T_6b299_row0_col5, #T_6b299_row0_col6, #T_6b299_row0_col7, #T_6b299_row4_col2, #T_6b299_row11_col4 {\n",
       "  text-align: left;\n",
       "  background-color: yellow;\n",
       "}\n",
       "#T_6b299_row0_col8, #T_6b299_row1_col8, #T_6b299_row2_col8, #T_6b299_row3_col8, #T_6b299_row4_col8, #T_6b299_row5_col8, #T_6b299_row6_col8, #T_6b299_row7_col8, #T_6b299_row8_col8, #T_6b299_row9_col8, #T_6b299_row10_col8, #T_6b299_row11_col8, #T_6b299_row13_col8 {\n",
       "  text-align: left;\n",
       "  background-color: lightgrey;\n",
       "}\n",
       "#T_6b299_row12_col8 {\n",
       "  text-align: left;\n",
       "  background-color: yellow;\n",
       "  background-color: lightgrey;\n",
       "}\n",
       "</style>\n",
       "<table id=\"T_6b299\">\n",
       "  <thead>\n",
       "    <tr>\n",
       "      <th class=\"blank level0\" >&nbsp;</th>\n",
       "      <th id=\"T_6b299_level0_col0\" class=\"col_heading level0 col0\" >Model</th>\n",
       "      <th id=\"T_6b299_level0_col1\" class=\"col_heading level0 col1\" >Accuracy</th>\n",
       "      <th id=\"T_6b299_level0_col2\" class=\"col_heading level0 col2\" >AUC</th>\n",
       "      <th id=\"T_6b299_level0_col3\" class=\"col_heading level0 col3\" >Recall</th>\n",
       "      <th id=\"T_6b299_level0_col4\" class=\"col_heading level0 col4\" >Prec.</th>\n",
       "      <th id=\"T_6b299_level0_col5\" class=\"col_heading level0 col5\" >F1</th>\n",
       "      <th id=\"T_6b299_level0_col6\" class=\"col_heading level0 col6\" >Kappa</th>\n",
       "      <th id=\"T_6b299_level0_col7\" class=\"col_heading level0 col7\" >MCC</th>\n",
       "      <th id=\"T_6b299_level0_col8\" class=\"col_heading level0 col8\" >TT (Sec)</th>\n",
       "    </tr>\n",
       "  </thead>\n",
       "  <tbody>\n",
       "    <tr>\n",
       "      <th id=\"T_6b299_level0_row0\" class=\"row_heading level0 row0\" >lr</th>\n",
       "      <td id=\"T_6b299_row0_col0\" class=\"data row0 col0\" >Logistic Regression</td>\n",
       "      <td id=\"T_6b299_row0_col1\" class=\"data row0 col1\" >0.6870</td>\n",
       "      <td id=\"T_6b299_row0_col2\" class=\"data row0 col2\" >0.0000</td>\n",
       "      <td id=\"T_6b299_row0_col3\" class=\"data row0 col3\" >0.6870</td>\n",
       "      <td id=\"T_6b299_row0_col4\" class=\"data row0 col4\" >0.6965</td>\n",
       "      <td id=\"T_6b299_row0_col5\" class=\"data row0 col5\" >0.6850</td>\n",
       "      <td id=\"T_6b299_row0_col6\" class=\"data row0 col6\" >0.6702</td>\n",
       "      <td id=\"T_6b299_row0_col7\" class=\"data row0 col7\" >0.6710</td>\n",
       "      <td id=\"T_6b299_row0_col8\" class=\"data row0 col8\" >3.4540</td>\n",
       "    </tr>\n",
       "    <tr>\n",
       "      <th id=\"T_6b299_level0_row1\" class=\"row_heading level0 row1\" >ridge</th>\n",
       "      <td id=\"T_6b299_row1_col0\" class=\"data row1 col0\" >Ridge Classifier</td>\n",
       "      <td id=\"T_6b299_row1_col1\" class=\"data row1 col1\" >0.6857</td>\n",
       "      <td id=\"T_6b299_row1_col2\" class=\"data row1 col2\" >0.0000</td>\n",
       "      <td id=\"T_6b299_row1_col3\" class=\"data row1 col3\" >0.6857</td>\n",
       "      <td id=\"T_6b299_row1_col4\" class=\"data row1 col4\" >0.6930</td>\n",
       "      <td id=\"T_6b299_row1_col5\" class=\"data row1 col5\" >0.6849</td>\n",
       "      <td id=\"T_6b299_row1_col6\" class=\"data row1 col6\" >0.6689</td>\n",
       "      <td id=\"T_6b299_row1_col7\" class=\"data row1 col7\" >0.6694</td>\n",
       "      <td id=\"T_6b299_row1_col8\" class=\"data row1 col8\" >1.3630</td>\n",
       "    </tr>\n",
       "    <tr>\n",
       "      <th id=\"T_6b299_level0_row2\" class=\"row_heading level0 row2\" >svm</th>\n",
       "      <td id=\"T_6b299_row2_col0\" class=\"data row2 col0\" >SVM - Linear Kernel</td>\n",
       "      <td id=\"T_6b299_row2_col1\" class=\"data row2 col1\" >0.6809</td>\n",
       "      <td id=\"T_6b299_row2_col2\" class=\"data row2 col2\" >0.0000</td>\n",
       "      <td id=\"T_6b299_row2_col3\" class=\"data row2 col3\" >0.6809</td>\n",
       "      <td id=\"T_6b299_row2_col4\" class=\"data row2 col4\" >0.6938</td>\n",
       "      <td id=\"T_6b299_row2_col5\" class=\"data row2 col5\" >0.6778</td>\n",
       "      <td id=\"T_6b299_row2_col6\" class=\"data row2 col6\" >0.6637</td>\n",
       "      <td id=\"T_6b299_row2_col7\" class=\"data row2 col7\" >0.6649</td>\n",
       "      <td id=\"T_6b299_row2_col8\" class=\"data row2 col8\" >1.6740</td>\n",
       "    </tr>\n",
       "    <tr>\n",
       "      <th id=\"T_6b299_level0_row3\" class=\"row_heading level0 row3\" >et</th>\n",
       "      <td id=\"T_6b299_row3_col0\" class=\"data row3 col0\" >Extra Trees Classifier</td>\n",
       "      <td id=\"T_6b299_row3_col1\" class=\"data row3 col1\" >0.6516</td>\n",
       "      <td id=\"T_6b299_row3_col2\" class=\"data row3 col2\" >0.9417</td>\n",
       "      <td id=\"T_6b299_row3_col3\" class=\"data row3 col3\" >0.6516</td>\n",
       "      <td id=\"T_6b299_row3_col4\" class=\"data row3 col4\" >0.6551</td>\n",
       "      <td id=\"T_6b299_row3_col5\" class=\"data row3 col5\" >0.6465</td>\n",
       "      <td id=\"T_6b299_row3_col6\" class=\"data row3 col6\" >0.6328</td>\n",
       "      <td id=\"T_6b299_row3_col7\" class=\"data row3 col7\" >0.6337</td>\n",
       "      <td id=\"T_6b299_row3_col8\" class=\"data row3 col8\" >4.3600</td>\n",
       "    </tr>\n",
       "    <tr>\n",
       "      <th id=\"T_6b299_level0_row4\" class=\"row_heading level0 row4\" >lightgbm</th>\n",
       "      <td id=\"T_6b299_row4_col0\" class=\"data row4 col0\" >Light Gradient Boosting Machine</td>\n",
       "      <td id=\"T_6b299_row4_col1\" class=\"data row4 col1\" >0.6395</td>\n",
       "      <td id=\"T_6b299_row4_col2\" class=\"data row4 col2\" >0.9463</td>\n",
       "      <td id=\"T_6b299_row4_col3\" class=\"data row4 col3\" >0.6395</td>\n",
       "      <td id=\"T_6b299_row4_col4\" class=\"data row4 col4\" >0.6501</td>\n",
       "      <td id=\"T_6b299_row4_col5\" class=\"data row4 col5\" >0.6400</td>\n",
       "      <td id=\"T_6b299_row4_col6\" class=\"data row4 col6\" >0.6202</td>\n",
       "      <td id=\"T_6b299_row4_col7\" class=\"data row4 col7\" >0.6210</td>\n",
       "      <td id=\"T_6b299_row4_col8\" class=\"data row4 col8\" >13.0800</td>\n",
       "    </tr>\n",
       "    <tr>\n",
       "      <th id=\"T_6b299_level0_row5\" class=\"row_heading level0 row5\" >rf</th>\n",
       "      <td id=\"T_6b299_row5_col0\" class=\"data row5 col0\" >Random Forest Classifier</td>\n",
       "      <td id=\"T_6b299_row5_col1\" class=\"data row5 col1\" >0.6180</td>\n",
       "      <td id=\"T_6b299_row5_col2\" class=\"data row5 col2\" >0.9365</td>\n",
       "      <td id=\"T_6b299_row5_col3\" class=\"data row5 col3\" >0.6180</td>\n",
       "      <td id=\"T_6b299_row5_col4\" class=\"data row5 col4\" >0.6218</td>\n",
       "      <td id=\"T_6b299_row5_col5\" class=\"data row5 col5\" >0.6127</td>\n",
       "      <td id=\"T_6b299_row5_col6\" class=\"data row5 col6\" >0.5974</td>\n",
       "      <td id=\"T_6b299_row5_col7\" class=\"data row5 col7\" >0.5983</td>\n",
       "      <td id=\"T_6b299_row5_col8\" class=\"data row5 col8\" >3.0990</td>\n",
       "    </tr>\n",
       "    <tr>\n",
       "      <th id=\"T_6b299_level0_row6\" class=\"row_heading level0 row6\" >gbc</th>\n",
       "      <td id=\"T_6b299_row6_col0\" class=\"data row6 col0\" >Gradient Boosting Classifier</td>\n",
       "      <td id=\"T_6b299_row6_col1\" class=\"data row6 col1\" >0.6058</td>\n",
       "      <td id=\"T_6b299_row6_col2\" class=\"data row6 col2\" >0.0000</td>\n",
       "      <td id=\"T_6b299_row6_col3\" class=\"data row6 col3\" >0.6058</td>\n",
       "      <td id=\"T_6b299_row6_col4\" class=\"data row6 col4\" >0.6501</td>\n",
       "      <td id=\"T_6b299_row6_col5\" class=\"data row6 col5\" >0.6187</td>\n",
       "      <td id=\"T_6b299_row6_col6\" class=\"data row6 col6\" >0.5847</td>\n",
       "      <td id=\"T_6b299_row6_col7\" class=\"data row6 col7\" >0.5877</td>\n",
       "      <td id=\"T_6b299_row6_col8\" class=\"data row6 col8\" >71.3050</td>\n",
       "    </tr>\n",
       "    <tr>\n",
       "      <th id=\"T_6b299_level0_row7\" class=\"row_heading level0 row7\" >lda</th>\n",
       "      <td id=\"T_6b299_row7_col0\" class=\"data row7 col0\" >Linear Discriminant Analysis</td>\n",
       "      <td id=\"T_6b299_row7_col1\" class=\"data row7 col1\" >0.5875</td>\n",
       "      <td id=\"T_6b299_row7_col2\" class=\"data row7 col2\" >0.0000</td>\n",
       "      <td id=\"T_6b299_row7_col3\" class=\"data row7 col3\" >0.5875</td>\n",
       "      <td id=\"T_6b299_row7_col4\" class=\"data row7 col4\" >0.6136</td>\n",
       "      <td id=\"T_6b299_row7_col5\" class=\"data row7 col5\" >0.5946</td>\n",
       "      <td id=\"T_6b299_row7_col6\" class=\"data row7 col6\" >0.5656</td>\n",
       "      <td id=\"T_6b299_row7_col7\" class=\"data row7 col7\" >0.5664</td>\n",
       "      <td id=\"T_6b299_row7_col8\" class=\"data row7 col8\" >10.6140</td>\n",
       "    </tr>\n",
       "    <tr>\n",
       "      <th id=\"T_6b299_level0_row8\" class=\"row_heading level0 row8\" >nb</th>\n",
       "      <td id=\"T_6b299_row8_col0\" class=\"data row8 col0\" >Naive Bayes</td>\n",
       "      <td id=\"T_6b299_row8_col1\" class=\"data row8 col1\" >0.4801</td>\n",
       "      <td id=\"T_6b299_row8_col2\" class=\"data row8 col2\" >0.7347</td>\n",
       "      <td id=\"T_6b299_row8_col3\" class=\"data row8 col3\" >0.4801</td>\n",
       "      <td id=\"T_6b299_row8_col4\" class=\"data row8 col4\" >0.4868</td>\n",
       "      <td id=\"T_6b299_row8_col5\" class=\"data row8 col5\" >0.4775</td>\n",
       "      <td id=\"T_6b299_row8_col6\" class=\"data row8 col6\" >0.4524</td>\n",
       "      <td id=\"T_6b299_row8_col7\" class=\"data row8 col7\" >0.4531</td>\n",
       "      <td id=\"T_6b299_row8_col8\" class=\"data row8 col8\" >0.8540</td>\n",
       "    </tr>\n",
       "    <tr>\n",
       "      <th id=\"T_6b299_level0_row9\" class=\"row_heading level0 row9\" >dt</th>\n",
       "      <td id=\"T_6b299_row9_col0\" class=\"data row9 col0\" >Decision Tree Classifier</td>\n",
       "      <td id=\"T_6b299_row9_col1\" class=\"data row9 col1\" >0.4726</td>\n",
       "      <td id=\"T_6b299_row9_col2\" class=\"data row9 col2\" >0.7332</td>\n",
       "      <td id=\"T_6b299_row9_col3\" class=\"data row9 col3\" >0.4726</td>\n",
       "      <td id=\"T_6b299_row9_col4\" class=\"data row9 col4\" >0.4876</td>\n",
       "      <td id=\"T_6b299_row9_col5\" class=\"data row9 col5\" >0.4748</td>\n",
       "      <td id=\"T_6b299_row9_col6\" class=\"data row9 col6\" >0.4444</td>\n",
       "      <td id=\"T_6b299_row9_col7\" class=\"data row9 col7\" >0.4453</td>\n",
       "      <td id=\"T_6b299_row9_col8\" class=\"data row9 col8\" >2.4150</td>\n",
       "    </tr>\n",
       "    <tr>\n",
       "      <th id=\"T_6b299_level0_row10\" class=\"row_heading level0 row10\" >ada</th>\n",
       "      <td id=\"T_6b299_row10_col0\" class=\"data row10 col0\" >Ada Boost Classifier</td>\n",
       "      <td id=\"T_6b299_row10_col1\" class=\"data row10 col1\" >0.3851</td>\n",
       "      <td id=\"T_6b299_row10_col2\" class=\"data row10 col2\" >0.0000</td>\n",
       "      <td id=\"T_6b299_row10_col3\" class=\"data row10 col3\" >0.3851</td>\n",
       "      <td id=\"T_6b299_row10_col4\" class=\"data row10 col4\" >0.6370</td>\n",
       "      <td id=\"T_6b299_row10_col5\" class=\"data row10 col5\" >0.4342</td>\n",
       "      <td id=\"T_6b299_row10_col6\" class=\"data row10 col6\" >0.3515</td>\n",
       "      <td id=\"T_6b299_row10_col7\" class=\"data row10 col7\" >0.3941</td>\n",
       "      <td id=\"T_6b299_row10_col8\" class=\"data row10 col8\" >1.4650</td>\n",
       "    </tr>\n",
       "    <tr>\n",
       "      <th id=\"T_6b299_level0_row11\" class=\"row_heading level0 row11\" >knn</th>\n",
       "      <td id=\"T_6b299_row11_col0\" class=\"data row11 col0\" >K Neighbors Classifier</td>\n",
       "      <td id=\"T_6b299_row11_col1\" class=\"data row11 col1\" >0.1073</td>\n",
       "      <td id=\"T_6b299_row11_col2\" class=\"data row11 col2\" >0.5742</td>\n",
       "      <td id=\"T_6b299_row11_col3\" class=\"data row11 col3\" >0.1073</td>\n",
       "      <td id=\"T_6b299_row11_col4\" class=\"data row11 col4\" >0.7609</td>\n",
       "      <td id=\"T_6b299_row11_col5\" class=\"data row11 col5\" >0.1053</td>\n",
       "      <td id=\"T_6b299_row11_col6\" class=\"data row11 col6\" >0.0581</td>\n",
       "      <td id=\"T_6b299_row11_col7\" class=\"data row11 col7\" >0.1539</td>\n",
       "      <td id=\"T_6b299_row11_col8\" class=\"data row11 col8\" >1.4480</td>\n",
       "    </tr>\n",
       "    <tr>\n",
       "      <th id=\"T_6b299_level0_row12\" class=\"row_heading level0 row12\" >dummy</th>\n",
       "      <td id=\"T_6b299_row12_col0\" class=\"data row12 col0\" >Dummy Classifier</td>\n",
       "      <td id=\"T_6b299_row12_col1\" class=\"data row12 col1\" >0.0528</td>\n",
       "      <td id=\"T_6b299_row12_col2\" class=\"data row12 col2\" >0.5000</td>\n",
       "      <td id=\"T_6b299_row12_col3\" class=\"data row12 col3\" >0.0528</td>\n",
       "      <td id=\"T_6b299_row12_col4\" class=\"data row12 col4\" >0.0028</td>\n",
       "      <td id=\"T_6b299_row12_col5\" class=\"data row12 col5\" >0.0053</td>\n",
       "      <td id=\"T_6b299_row12_col6\" class=\"data row12 col6\" >0.0000</td>\n",
       "      <td id=\"T_6b299_row12_col7\" class=\"data row12 col7\" >0.0000</td>\n",
       "      <td id=\"T_6b299_row12_col8\" class=\"data row12 col8\" >0.4940</td>\n",
       "    </tr>\n",
       "    <tr>\n",
       "      <th id=\"T_6b299_level0_row13\" class=\"row_heading level0 row13\" >qda</th>\n",
       "      <td id=\"T_6b299_row13_col0\" class=\"data row13 col0\" >Quadratic Discriminant Analysis</td>\n",
       "      <td id=\"T_6b299_row13_col1\" class=\"data row13 col1\" >0.0371</td>\n",
       "      <td id=\"T_6b299_row13_col2\" class=\"data row13 col2\" >0.0000</td>\n",
       "      <td id=\"T_6b299_row13_col3\" class=\"data row13 col3\" >0.0371</td>\n",
       "      <td id=\"T_6b299_row13_col4\" class=\"data row13 col4\" >0.0998</td>\n",
       "      <td id=\"T_6b299_row13_col5\" class=\"data row13 col5\" >0.0291</td>\n",
       "      <td id=\"T_6b299_row13_col6\" class=\"data row13 col6\" >-0.0083</td>\n",
       "      <td id=\"T_6b299_row13_col7\" class=\"data row13 col7\" >-0.0091</td>\n",
       "      <td id=\"T_6b299_row13_col8\" class=\"data row13 col8\" >2.5610</td>\n",
       "    </tr>\n",
       "  </tbody>\n",
       "</table>\n"
      ],
      "text/plain": [
       "<pandas.io.formats.style.Styler at 0x317bcdba0>"
      ]
     },
     "metadata": {},
     "output_type": "display_data"
    },
    {
     "data": {
      "text/html": [],
      "text/plain": [
       "<IPython.core.display.HTML object>"
      ]
     },
     "metadata": {},
     "output_type": "display_data"
    }
   ],
   "source": [
    "best_model = compare_models()\n"
   ]
  },
  {
   "cell_type": "code",
   "execution_count": 74,
   "id": "818ea16a",
   "metadata": {},
   "outputs": [
    {
     "data": {
      "application/vnd.jupyter.widget-view+json": {
       "model_id": "38dd4275b0354f8d9d7d3b7e4233e9f5",
       "version_major": 2,
       "version_minor": 0
      },
      "text/plain": [
       "interactive(children=(ToggleButtons(description='Plot Type:', icons=('',), options=(('Pipeline Plot', 'pipelin…"
      ]
     },
     "metadata": {},
     "output_type": "display_data"
    }
   ],
   "source": [
    "evaluate_model(best_model)"
   ]
  },
  {
   "cell_type": "code",
   "execution_count": 76,
   "id": "ebcf871c",
   "metadata": {},
   "outputs": [],
   "source": [
    "final_model = finalize_model(best_model)\n"
   ]
  },
  {
   "cell_type": "code",
   "execution_count": 77,
   "id": "0dea73c8",
   "metadata": {},
   "outputs": [],
   "source": [
    "test_data = pd.DataFrame(X_test_tfidf.toarray())\n",
    "test_data['target'] = y_test.values\n"
   ]
  },
  {
   "cell_type": "code",
   "execution_count": 78,
   "id": "383ffe72",
   "metadata": {},
   "outputs": [
    {
     "data": {
      "text/html": [
       "<style type=\"text/css\">\n",
       "</style>\n",
       "<table id=\"T_1c352\">\n",
       "  <thead>\n",
       "    <tr>\n",
       "      <th class=\"blank level0\" >&nbsp;</th>\n",
       "      <th id=\"T_1c352_level0_col0\" class=\"col_heading level0 col0\" >Model</th>\n",
       "      <th id=\"T_1c352_level0_col1\" class=\"col_heading level0 col1\" >Accuracy</th>\n",
       "      <th id=\"T_1c352_level0_col2\" class=\"col_heading level0 col2\" >AUC</th>\n",
       "      <th id=\"T_1c352_level0_col3\" class=\"col_heading level0 col3\" >Recall</th>\n",
       "      <th id=\"T_1c352_level0_col4\" class=\"col_heading level0 col4\" >Prec.</th>\n",
       "      <th id=\"T_1c352_level0_col5\" class=\"col_heading level0 col5\" >F1</th>\n",
       "      <th id=\"T_1c352_level0_col6\" class=\"col_heading level0 col6\" >Kappa</th>\n",
       "      <th id=\"T_1c352_level0_col7\" class=\"col_heading level0 col7\" >MCC</th>\n",
       "    </tr>\n",
       "  </thead>\n",
       "  <tbody>\n",
       "    <tr>\n",
       "      <th id=\"T_1c352_level0_row0\" class=\"row_heading level0 row0\" >0</th>\n",
       "      <td id=\"T_1c352_row0_col0\" class=\"data row0 col0\" >Logistic Regression</td>\n",
       "      <td id=\"T_1c352_row0_col1\" class=\"data row0 col1\" >0.7045</td>\n",
       "      <td id=\"T_1c352_row0_col2\" class=\"data row0 col2\" >0.9641</td>\n",
       "      <td id=\"T_1c352_row0_col3\" class=\"data row0 col3\" >0.7045</td>\n",
       "      <td id=\"T_1c352_row0_col4\" class=\"data row0 col4\" >0.7118</td>\n",
       "      <td id=\"T_1c352_row0_col5\" class=\"data row0 col5\" >0.7035</td>\n",
       "      <td id=\"T_1c352_row0_col6\" class=\"data row0 col6\" >0.6887</td>\n",
       "      <td id=\"T_1c352_row0_col7\" class=\"data row0 col7\" >0.6893</td>\n",
       "    </tr>\n",
       "  </tbody>\n",
       "</table>\n"
      ],
      "text/plain": [
       "<pandas.io.formats.style.Styler at 0x30a9a3310>"
      ]
     },
     "metadata": {},
     "output_type": "display_data"
    }
   ],
   "source": [
    "predictions = predict_model(final_model, data=test_data)\n"
   ]
  },
  {
   "cell_type": "code",
   "execution_count": 79,
   "id": "ac5b8da9",
   "metadata": {},
   "outputs": [
    {
     "name": "stdout",
     "output_type": "stream",
     "text": [
      "Accuracy: 0.7045092838196286\n",
      "              precision    recall  f1-score   support\n",
      "\n",
      "           0       0.58      0.50      0.54       160\n",
      "           1       0.70      0.67      0.68       195\n",
      "           2       0.68      0.66      0.67       197\n",
      "           3       0.62      0.64      0.63       196\n",
      "           4       0.74      0.67      0.70       193\n",
      "           5       0.84      0.84      0.84       198\n",
      "           6       0.79      0.74      0.76       195\n",
      "           7       0.47      0.77      0.59       198\n",
      "           8       0.72      0.66      0.69       199\n",
      "           9       0.82      0.80      0.81       199\n",
      "          10       0.90      0.86      0.88       200\n",
      "          11       0.84      0.75      0.79       198\n",
      "          12       0.64      0.68      0.66       197\n",
      "          13       0.72      0.79      0.76       198\n",
      "          14       0.80      0.74      0.77       197\n",
      "          15       0.69      0.81      0.75       199\n",
      "          16       0.62      0.69      0.65       182\n",
      "          17       0.83      0.72      0.77       188\n",
      "          18       0.61      0.63      0.62       155\n",
      "          19       0.50      0.24      0.32       126\n",
      "\n",
      "    accuracy                           0.70      3770\n",
      "   macro avg       0.71      0.69      0.69      3770\n",
      "weighted avg       0.71      0.70      0.70      3770\n",
      "\n"
     ]
    }
   ],
   "source": [
    "from sklearn.metrics import classification_report, accuracy_score\n",
    "\n",
    "y_true = y_test\n",
    "y_pred = predictions['prediction_label']\n",
    "\n",
    "print(\"Accuracy:\", accuracy_score(y_true, y_pred))\n",
    "print(classification_report(y_true, y_pred))\n"
   ]
  },
  {
   "cell_type": "code",
   "execution_count": 80,
   "id": "bd2fb0a8",
   "metadata": {},
   "outputs": [
    {
     "data": {
      "text/html": [],
      "text/plain": [
       "<IPython.core.display.HTML object>"
      ]
     },
     "metadata": {},
     "output_type": "display_data"
    },
    {
     "data": {
      "image/png": "[encoded data removed]",
      "text/plain": [
       "<Figure size 800x500 with 1 Axes>"
      ]
     },
     "metadata": {},
     "output_type": "display_data"
    }
   ],
   "source": [
    "plot_model(best_model, plot='feature')\n"
   ]
  },
  {
   "cell_type": "code",
   "execution_count": 81,
   "id": "faab6c3f",
   "metadata": {},
   "outputs": [
    {
     "name": "stdout",
     "output_type": "stream",
     "text": [
      "Transformation Pipeline and Model Successfully Saved\n"
     ]
    },
    {
     "data": {
      "text/plain": [
       "(Pipeline(memory=Memory(location=None),\n",
       "          steps=[('numerical_imputer',\n",
       "                  TransformerWrapper(exclude=None,\n",
       "                                     include=['0', '1', '2', '3', '4', '5', '6',\n",
       "                                              '7', '8', '9', '10', '11', '12',\n",
       "                                              '13', '14', '15', '16', '17', '18',\n",
       "                                              '19', '20', '21', '22', '23', '24',\n",
       "                                              '25', '26', '27', '28', '29', ...],\n",
       "                                     transformer=SimpleImputer(add_indicator=False,\n",
       "                                                               copy=True,\n",
       "                                                               fill_value=None,\n",
       "                                                               keep_empty_features=False,...\n",
       "                                                               fill_value=None,\n",
       "                                                               keep_empty_features=False,\n",
       "                                                               missing_values=nan,\n",
       "                                                               strategy='most_frequent'))),\n",
       "                 ('actual_estimator',\n",
       "                  LogisticRegression(C=1.0, class_weight=None, dual=False,\n",
       "                                     fit_intercept=True, intercept_scaling=1,\n",
       "                                     l1_ratio=None, max_iter=1000,\n",
       "                                     multi_class='auto', n_jobs=None,\n",
       "                                     penalty='l2', random_state=42,\n",
       "                                     solver='lbfgs', tol=0.0001, verbose=0,\n",
       "                                     warm_start=False))],\n",
       "          verbose=False),\n",
       " 'best_pycaret_text_model.pkl')"
      ]
     },
     "execution_count": 81,
     "metadata": {},
     "output_type": "execute_result"
    }
   ],
   "source": [
    "save_model(final_model, 'best_pycaret_text_model')\n"
   ]
  },
  {
   "cell_type": "code",
   "execution_count": 82,
   "id": "ed8ecb49",
   "metadata": {},
   "outputs": [],
   "source": [
    "import mlflow\n",
    "\n",
    "with mlflow.start_run(run_name=\"PyCaret_Text_Classification_Final\"):\n",
    "    mlflow.log_param(\"model\", str(best_model))\n",
    "    mlflow.log_metric(\"accuracy\", accuracy_score(y_true, y_pred))\n"
   ]
  }
 ],
 "metadata": {
  "kernelspec": {
   "display_name": "pycaret_conda_env",
   "language": "python",
   "name": "python3"
  },
  "language_info": {
   "codemirror_mode": {
    "name": "ipython",
    "version": 3
   },
   "file_extension": ".py",
   "mimetype": "text/x-python",
   "name": "python",
   "nbconvert_exporter": "python",
   "pygments_lexer": "ipython3",
   "version": "3.10.15"
  }
 },
 "nbformat": 4,
 "nbformat_minor": 5
}
